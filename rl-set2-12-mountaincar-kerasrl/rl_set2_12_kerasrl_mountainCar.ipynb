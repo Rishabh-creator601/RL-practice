{
  "nbformat": 4,
  "nbformat_minor": 0,
  "metadata": {
    "colab": {
      "name": "rl-set2-12-kerasrl-mountainCar.ipynb",
      "provenance": []
    },
    "kernelspec": {
      "name": "python3",
      "display_name": "Python 3"
    },
    "language_info": {
      "name": "python"
    }
  },
  "cells": [
    {
      "cell_type": "code",
      "metadata": {
        "id": "e361_Xo-ly9s"
      },
      "source": [
        "!pip install keras-rl2"
      ],
      "execution_count": null,
      "outputs": []
    },
    {
      "cell_type": "code",
      "metadata": {
        "id": "0alCBpi2l7sF"
      },
      "source": [
        "import gym \n",
        "import os \n",
        "from tensorflow.keras.layers import Dense,Flatten \n",
        "from tensorflow.keras.optimizers import Adam \n",
        "from tensorflow.keras.models import  Sequential\n",
        "from rl.policy import BoltzmannQPolicy\n",
        "from rl.agents import DQNAgent,DDPGAgent\n",
        "from rl.memory import SequentialMemory "
      ],
      "execution_count": 2,
      "outputs": []
    },
    {
      "cell_type": "code",
      "metadata": {
        "id": "pVDRgLr8mM3h"
      },
      "source": [
        "env = gym.make('MountainCar-v0')"
      ],
      "execution_count": 3,
      "outputs": []
    },
    {
      "cell_type": "code",
      "metadata": {
        "id": "mLWs9vyqmvdn"
      },
      "source": [
        "states = env.observation_space.shape[0]\n",
        "actions = env.action_space.n"
      ],
      "execution_count": 4,
      "outputs": []
    },
    {
      "cell_type": "code",
      "metadata": {
        "colab": {
          "base_uri": "https://localhost:8080/"
        },
        "id": "8EHVMRsvm7Px",
        "outputId": "de1bd103-c3f4-4b63-f8ad-6fa6b80bd4d7"
      },
      "source": [
        "states,actions"
      ],
      "execution_count": 5,
      "outputs": [
        {
          "output_type": "execute_result",
          "data": {
            "text/plain": [
              "(2, 3)"
            ]
          },
          "metadata": {},
          "execution_count": 5
        }
      ]
    },
    {
      "cell_type": "code",
      "metadata": {
        "id": "E6JOq1I_m-nm"
      },
      "source": [
        "def build_model(states,actions):\n",
        "  model = Sequential([\n",
        "                      Flatten(input_shape=(1,states)),\n",
        "                      Dense(16,activation='relu'),\n",
        "                      Dense(16,activation='relu'),\n",
        "                      Dense(actions,activation='linear')\n",
        "  ])\n",
        "  return model "
      ],
      "execution_count": 6,
      "outputs": []
    },
    {
      "cell_type": "code",
      "metadata": {
        "id": "ZK9ta3ZAoBz8"
      },
      "source": [
        "def build_agent(model,actions):\n",
        "  policy = BoltzmannQPolicy()\n",
        "  memory = SequentialMemory(limit=50000,window_length=1)\n",
        "  dqn = DQNAgent(model=model,policy=policy,memory=memory,nb_actions=actions,nb_steps_warmup=10,target_model_update=1e-2)\n",
        "  return dqn"
      ],
      "execution_count": 7,
      "outputs": []
    },
    {
      "cell_type": "code",
      "metadata": {
        "id": "EThogDFioXkI"
      },
      "source": [
        "model = build_model(states,actions)\n",
        "dqn = build_agent(model,actions)"
      ],
      "execution_count": 8,
      "outputs": []
    },
    {
      "cell_type": "code",
      "metadata": {
        "colab": {
          "base_uri": "https://localhost:8080/"
        },
        "id": "g7VZIYJ7onQ-",
        "outputId": "ed33da10-2d18-4d93-dfb8-1d3e72c1202c"
      },
      "source": [
        "dqn.compile(Adam(learning_rate=1e-2),metrics=['mae'])\n",
        "dqn.fit(env,nb_steps=50000,visualize=False)"
      ],
      "execution_count": 9,
      "outputs": [
        {
          "output_type": "stream",
          "name": "stdout",
          "text": [
            "Training for 50000 steps ...\n",
            "Interval 1 (0 steps performed)\n",
            "\r    1/10000 [..............................] - ETA: 9:49 - reward: -1.0000"
          ]
        },
        {
          "output_type": "stream",
          "name": "stderr",
          "text": [
            "/usr/local/lib/python3.7/dist-packages/keras/engine/training_v1.py:2079: UserWarning: `Model.state_updates` will be removed in a future version. This property should not be used in TensorFlow 2.0, as `updates` are applied automatically.\n",
            "  updates=self.state_updates,\n",
            "/usr/local/lib/python3.7/dist-packages/rl/memory.py:37: UserWarning: Not enough entries to sample without replacement. Consider increasing your warm-up phase to avoid oversampling!\n",
            "  warnings.warn('Not enough entries to sample without replacement. Consider increasing your warm-up phase to avoid oversampling!')\n"
          ]
        },
        {
          "output_type": "stream",
          "name": "stdout",
          "text": [
            "10000/10000 [==============================] - 65s 6ms/step - reward: -1.0000\n",
            "50 episodes - episode_reward: -200.000 [-200.000, -200.000] - loss: 2.406 - mae: 19.614 - mean_q: -28.899\n",
            "\n",
            "Interval 2 (10000 steps performed)\n",
            "10000/10000 [==============================] - 65s 7ms/step - reward: -1.0000\n",
            "50 episodes - episode_reward: -200.000 [-200.000, -200.000] - loss: 6.507 - mae: 34.447 - mean_q: -50.883\n",
            "\n",
            "Interval 3 (20000 steps performed)\n",
            "10000/10000 [==============================] - 66s 7ms/step - reward: -1.0000\n",
            "50 episodes - episode_reward: -200.000 [-200.000, -200.000] - loss: 8.425 - mae: 39.007 - mean_q: -57.676\n",
            "\n",
            "Interval 4 (30000 steps performed)\n",
            "10000/10000 [==============================] - 67s 7ms/step - reward: -1.0000\n",
            "50 episodes - episode_reward: -200.000 [-200.000, -200.000] - loss: 9.125 - mae: 40.325 - mean_q: -59.652\n",
            "\n",
            "Interval 5 (40000 steps performed)\n",
            "10000/10000 [==============================] - 68s 7ms/step - reward: -1.0000\n",
            "done, took 330.514 seconds\n"
          ]
        },
        {
          "output_type": "execute_result",
          "data": {
            "text/plain": [
              "<keras.callbacks.History at 0x7f94125b7ed0>"
            ]
          },
          "metadata": {},
          "execution_count": 9
        }
      ]
    },
    {
      "cell_type": "code",
      "metadata": {
        "id": "Y73hmliOAgmn"
      },
      "source": [
        "os.mkdir('Models')\n",
        "model_path = os.path.join('Models','MountainCar.h5f')"
      ],
      "execution_count": 11,
      "outputs": []
    },
    {
      "cell_type": "code",
      "metadata": {
        "colab": {
          "base_uri": "https://localhost:8080/"
        },
        "id": "YcoabYufAp9Y",
        "outputId": "acc0dc7d-b4f0-4a7f-8889-0c969c64d38f"
      },
      "source": [
        "import numpy as np\n",
        "\n",
        "\n",
        "scores = dqn.test(env,nb_episodes=100,visualize=False)\n",
        "print(np.mean(scores.history['episode_reward']))"
      ],
      "execution_count": 10,
      "outputs": [
        {
          "output_type": "stream",
          "name": "stdout",
          "text": [
            "Testing for 100 episodes ...\n",
            "Episode 1: reward: -200.000, steps: 200\n",
            "Episode 2: reward: -200.000, steps: 200\n",
            "Episode 3: reward: -200.000, steps: 200\n",
            "Episode 4: reward: -200.000, steps: 200\n",
            "Episode 5: reward: -200.000, steps: 200\n",
            "Episode 6: reward: -200.000, steps: 200\n",
            "Episode 7: reward: -200.000, steps: 200\n",
            "Episode 8: reward: -200.000, steps: 200\n",
            "Episode 9: reward: -200.000, steps: 200\n",
            "Episode 10: reward: -200.000, steps: 200\n",
            "Episode 11: reward: -200.000, steps: 200\n",
            "Episode 12: reward: -200.000, steps: 200\n",
            "Episode 13: reward: -200.000, steps: 200\n",
            "Episode 14: reward: -200.000, steps: 200\n",
            "Episode 15: reward: -200.000, steps: 200\n",
            "Episode 16: reward: -200.000, steps: 200\n",
            "Episode 17: reward: -200.000, steps: 200\n",
            "Episode 18: reward: -200.000, steps: 200\n",
            "Episode 19: reward: -200.000, steps: 200\n",
            "Episode 20: reward: -200.000, steps: 200\n",
            "Episode 21: reward: -200.000, steps: 200\n",
            "Episode 22: reward: -200.000, steps: 200\n",
            "Episode 23: reward: -200.000, steps: 200\n",
            "Episode 24: reward: -200.000, steps: 200\n",
            "Episode 25: reward: -200.000, steps: 200\n",
            "Episode 26: reward: -200.000, steps: 200\n",
            "Episode 27: reward: -200.000, steps: 200\n",
            "Episode 28: reward: -200.000, steps: 200\n",
            "Episode 29: reward: -200.000, steps: 200\n",
            "Episode 30: reward: -200.000, steps: 200\n",
            "Episode 31: reward: -200.000, steps: 200\n",
            "Episode 32: reward: -200.000, steps: 200\n",
            "Episode 33: reward: -200.000, steps: 200\n",
            "Episode 34: reward: -200.000, steps: 200\n",
            "Episode 35: reward: -200.000, steps: 200\n",
            "Episode 36: reward: -200.000, steps: 200\n",
            "Episode 37: reward: -200.000, steps: 200\n",
            "Episode 38: reward: -200.000, steps: 200\n",
            "Episode 39: reward: -200.000, steps: 200\n",
            "Episode 40: reward: -200.000, steps: 200\n",
            "Episode 41: reward: -200.000, steps: 200\n",
            "Episode 42: reward: -200.000, steps: 200\n",
            "Episode 43: reward: -200.000, steps: 200\n",
            "Episode 44: reward: -200.000, steps: 200\n",
            "Episode 45: reward: -200.000, steps: 200\n",
            "Episode 46: reward: -200.000, steps: 200\n",
            "Episode 47: reward: -200.000, steps: 200\n",
            "Episode 48: reward: -200.000, steps: 200\n",
            "Episode 49: reward: -200.000, steps: 200\n",
            "Episode 50: reward: -200.000, steps: 200\n",
            "Episode 51: reward: -200.000, steps: 200\n",
            "Episode 52: reward: -200.000, steps: 200\n",
            "Episode 53: reward: -200.000, steps: 200\n",
            "Episode 54: reward: -200.000, steps: 200\n",
            "Episode 55: reward: -200.000, steps: 200\n",
            "Episode 56: reward: -200.000, steps: 200\n",
            "Episode 57: reward: -200.000, steps: 200\n",
            "Episode 58: reward: -200.000, steps: 200\n",
            "Episode 59: reward: -200.000, steps: 200\n",
            "Episode 60: reward: -200.000, steps: 200\n",
            "Episode 61: reward: -200.000, steps: 200\n",
            "Episode 62: reward: -200.000, steps: 200\n",
            "Episode 63: reward: -200.000, steps: 200\n",
            "Episode 64: reward: -200.000, steps: 200\n",
            "Episode 65: reward: -200.000, steps: 200\n",
            "Episode 66: reward: -200.000, steps: 200\n",
            "Episode 67: reward: -200.000, steps: 200\n",
            "Episode 68: reward: -200.000, steps: 200\n",
            "Episode 69: reward: -200.000, steps: 200\n",
            "Episode 70: reward: -200.000, steps: 200\n",
            "Episode 71: reward: -200.000, steps: 200\n",
            "Episode 72: reward: -200.000, steps: 200\n",
            "Episode 73: reward: -200.000, steps: 200\n",
            "Episode 74: reward: -200.000, steps: 200\n",
            "Episode 75: reward: -200.000, steps: 200\n",
            "Episode 76: reward: -200.000, steps: 200\n",
            "Episode 77: reward: -200.000, steps: 200\n",
            "Episode 78: reward: -200.000, steps: 200\n",
            "Episode 79: reward: -200.000, steps: 200\n",
            "Episode 80: reward: -200.000, steps: 200\n",
            "Episode 81: reward: -200.000, steps: 200\n",
            "Episode 82: reward: -200.000, steps: 200\n",
            "Episode 83: reward: -200.000, steps: 200\n",
            "Episode 84: reward: -200.000, steps: 200\n",
            "Episode 85: reward: -200.000, steps: 200\n",
            "Episode 86: reward: -200.000, steps: 200\n",
            "Episode 87: reward: -200.000, steps: 200\n",
            "Episode 88: reward: -200.000, steps: 200\n",
            "Episode 89: reward: -200.000, steps: 200\n",
            "Episode 90: reward: -200.000, steps: 200\n",
            "Episode 91: reward: -200.000, steps: 200\n",
            "Episode 92: reward: -200.000, steps: 200\n",
            "Episode 93: reward: -200.000, steps: 200\n",
            "Episode 94: reward: -200.000, steps: 200\n",
            "Episode 95: reward: -200.000, steps: 200\n",
            "Episode 96: reward: -200.000, steps: 200\n",
            "Episode 97: reward: -200.000, steps: 200\n",
            "Episode 98: reward: -200.000, steps: 200\n",
            "Episode 99: reward: -200.000, steps: 200\n",
            "Episode 100: reward: -200.000, steps: 200\n",
            "-200.0\n"
          ]
        }
      ]
    },
    {
      "cell_type": "code",
      "metadata": {
        "id": "ZboptlVoBAg_"
      },
      "source": [
        "dqn.save_weights(model_path)"
      ],
      "execution_count": 13,
      "outputs": []
    },
    {
      "cell_type": "code",
      "metadata": {
        "id": "Wz5pd0I6B3f8"
      },
      "source": [
        ""
      ],
      "execution_count": null,
      "outputs": []
    }
  ]
}