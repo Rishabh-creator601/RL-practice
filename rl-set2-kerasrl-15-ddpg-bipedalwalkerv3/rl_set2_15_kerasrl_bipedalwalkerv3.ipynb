{
  "nbformat": 4,
  "nbformat_minor": 0,
  "metadata": {
    "colab": {
      "name": "rl-set2-15-kerasrl-bipedalwalkerv3.ipynb",
      "provenance": []
    },
    "kernelspec": {
      "name": "python3",
      "display_name": "Python 3"
    },
    "language_info": {
      "name": "python"
    }
  },
  "cells": [
    {
      "cell_type": "code",
      "metadata": {
        "id": "ryJUauylu1A6"
      },
      "source": [
        "!pip install keras-rl2"
      ],
      "execution_count": null,
      "outputs": []
    },
    {
      "cell_type": "code",
      "metadata": {
        "id": "9TPKeJdavDeU"
      },
      "source": [
        "!pip install keras-rl2\n",
        "!pip3 install Box2D\n",
        "!pip3 install box2d-py\n",
        "!pip3 install gym[Box_2D]\n",
        "!apt-get install swig"
      ],
      "execution_count": null,
      "outputs": []
    },
    {
      "cell_type": "code",
      "metadata": {
        "id": "4AdjCYZBvL_m"
      },
      "source": [
        "import gym \n",
        "import os \n",
        "from tensorflow.keras.layers import Dense,Flatten,Input,Concatenate\n",
        "from tensorflow.keras.models import Model,Sequential \n",
        "from tensorflow.keras.optimizers import Adam \n",
        "from rl.agents import DDPGAgent , DQNAgent \n",
        "from rl.policy import BoltzmannQPolicy\n",
        "from rl.memory import SequentialMemory\n",
        "from rl.random import   OrnsteinUhlenbeckProcess\n"
      ],
      "execution_count": 3,
      "outputs": []
    },
    {
      "cell_type": "code",
      "metadata": {
        "colab": {
          "base_uri": "https://localhost:8080/"
        },
        "id": "wntb9uWVvx33",
        "outputId": "b6bb15db-a850-4979-a1c5-7a8b54c45b2c"
      },
      "source": [
        "env = gym.make('BipedalWalker-v3')"
      ],
      "execution_count": 4,
      "outputs": [
        {
          "output_type": "stream",
          "name": "stderr",
          "text": [
            "/usr/local/lib/python3.7/dist-packages/gym/logger.py:30: UserWarning: \u001b[33mWARN: Box bound precision lowered by casting to float32\u001b[0m\n",
            "  warnings.warn(colorize('%s: %s'%('WARN', msg % args), 'yellow'))\n"
          ]
        }
      ]
    },
    {
      "cell_type": "code",
      "metadata": {
        "id": "5b-M_Bh-v3ZZ"
      },
      "source": [
        "states = env.observation_space.shape\n",
        "actions = env.action_space.shape[0]"
      ],
      "execution_count": 5,
      "outputs": []
    },
    {
      "cell_type": "code",
      "metadata": {
        "colab": {
          "base_uri": "https://localhost:8080/"
        },
        "id": "2o5UFNAVv_FJ",
        "outputId": "7f3a7c8f-03f1-421d-813e-0f875d2aff6a"
      },
      "source": [
        "states,actions"
      ],
      "execution_count": 6,
      "outputs": [
        {
          "output_type": "execute_result",
          "data": {
            "text/plain": [
              "((24,), 4)"
            ]
          },
          "metadata": {},
          "execution_count": 6
        }
      ]
    },
    {
      "cell_type": "code",
      "metadata": {
        "id": "ecQvrpPIwDhm"
      },
      "source": [
        "def get_actor(states,actions):\n",
        "  model = Sequential([\n",
        "                      Flatten(input_shape=(1,)+states),\n",
        "                      Dense(128,activation='relu'),\n",
        "                      Dense(64,activation='relu'),\n",
        "                      Dense(32,activation='relu'),\n",
        "                      Dense(16,activation='relu'),\n",
        "                      Dense(actions,activation='linear')\n",
        "  ])\n",
        "\n",
        "  return model"
      ],
      "execution_count": 7,
      "outputs": []
    },
    {
      "cell_type": "code",
      "metadata": {
        "id": "3GJhxeqNwm3Z"
      },
      "source": [
        "def get_critic(states,actions):\n",
        "  action_input = Input(shape=(actions,),name='action_input')\n",
        "  obs_input = Input(shape=(1,)+states,name='obs_input')\n",
        "  flattened_input = Flatten()(obs_input)\n",
        "  model = Concatenate()([action_input,flattened_input])\n",
        "  model = Dense(128,activation='relu')(model)\n",
        "  model = Dense(64,activation='relu')(model)\n",
        "  model = Dense(32,activation='relu')(model)\n",
        "  model = Dense(16,activation='relu')(model)\n",
        "  model = Dense(1,activation='linear')(model)\n",
        "  x = Model(inputs=[action_input,obs_input],outputs=model)\n",
        "  return x , action_input "
      ],
      "execution_count": 8,
      "outputs": []
    },
    {
      "cell_type": "code",
      "metadata": {
        "id": "qhAHotDxxbAX"
      },
      "source": [
        "def build_agent(crtic,actor,states,actions,action_input):\n",
        "  memory = SequentialMemory(limit=50000,window_length=1)\n",
        "  random_process = OrnsteinUhlenbeckProcess(theta=.15,sigma=.3,size=actions,mu=0)\n",
        "  ddpg = DDPGAgent(random_process=random_process,nb_actions=actions,actor=actor,critic=critic,critic_action_input=action_input,memory=memory,nb_steps_warmup_actor=100,nb_steps_warmup_critic=100,target_model_update=1e-3)\n",
        "  ddpg.compile(Adam(learning_rate=1e-2),metrics=['mae'])\n",
        "  return ddpg"
      ],
      "execution_count": 9,
      "outputs": []
    },
    {
      "cell_type": "code",
      "metadata": {
        "id": "F6HLtWCCzSrv"
      },
      "source": [
        "actor = get_actor(states,actions)\n",
        "critic,action_input = get_critic(states,actions)\n",
        "ddpg = build_agent(critic,actor,states,actions,action_input)"
      ],
      "execution_count": 10,
      "outputs": []
    },
    {
      "cell_type": "code",
      "metadata": {
        "colab": {
          "base_uri": "https://localhost:8080/"
        },
        "id": "EKn3zr_Kzgpx",
        "outputId": "ba483dcd-a5a5-4138-9c63-d4177cb08e4f"
      },
      "source": [
        "ddpg.fit(env,nb_steps=40000,visualize=False)"
      ],
      "execution_count": 15,
      "outputs": [
        {
          "output_type": "stream",
          "name": "stdout",
          "text": [
            "Training for 40000 steps ...\n",
            "Interval 1 (0 steps performed)\n",
            "10000/10000 [==============================] - 112s 11ms/step - reward: -0.1173\n",
            "7 episodes - episode_reward: -162.551 [-178.794, -110.634] - loss: 0.792 - mae: 0.050 - mean_q: -8.296\n",
            "\n",
            "Interval 2 (10000 steps performed)\n",
            "10000/10000 [==============================] - 114s 11ms/step - reward: -0.1248\n",
            "8 episodes - episode_reward: -153.722 [-177.962, -104.117] - loss: 0.570 - mae: 0.042 - mean_q: -8.568\n",
            "\n",
            "Interval 3 (20000 steps performed)\n",
            "10000/10000 [==============================] - 114s 11ms/step - reward: -0.1041\n",
            "6 episodes - episode_reward: -166.529 [-176.965, -150.069] - loss: 0.519 - mae: 0.040 - mean_q: -8.807\n",
            "\n",
            "Interval 4 (30000 steps performed)\n",
            "10000/10000 [==============================] - 116s 12ms/step - reward: -0.1132\n",
            "done, took 455.949 seconds\n"
          ]
        },
        {
          "output_type": "execute_result",
          "data": {
            "text/plain": [
              "<keras.callbacks.History at 0x7f34bc202810>"
            ]
          },
          "metadata": {},
          "execution_count": 15
        }
      ]
    },
    {
      "cell_type": "code",
      "metadata": {
        "id": "vdiY2k-NAcfi"
      },
      "source": [
        "!rm -rf Models"
      ],
      "execution_count": 16,
      "outputs": []
    },
    {
      "cell_type": "code",
      "metadata": {
        "id": "vWN4hahqzxeP"
      },
      "source": [
        "scores = ddpg.test(env,nb_episodes=100,visualize=False)\n",
        "import numpy as np\n",
        "print(np.mean(scores.history['episode_reward']))"
      ],
      "execution_count": null,
      "outputs": []
    },
    {
      "cell_type": "code",
      "metadata": {
        "id": "gOO8imtl1W91"
      },
      "source": [
        "if not os.path.exists('Models'):\n",
        "  os.mkdir('Models')"
      ],
      "execution_count": 19,
      "outputs": []
    },
    {
      "cell_type": "code",
      "metadata": {
        "id": "cwzkhf6dAb1V"
      },
      "source": [
        "ddpg.save_weights('Models/DDPG_KERASRL_BIPEDALWALKERV3.hf5')"
      ],
      "execution_count": 20,
      "outputs": []
    },
    {
      "cell_type": "code",
      "metadata": {
        "id": "odCo31D2CuKm"
      },
      "source": [
        ""
      ],
      "execution_count": null,
      "outputs": []
    }
  ]
}