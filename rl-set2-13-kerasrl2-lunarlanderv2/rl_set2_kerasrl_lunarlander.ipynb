{
  "nbformat": 4,
  "nbformat_minor": 0,
  "metadata": {
    "colab": {
      "name": "rl-set2-kerasrl-lunarlander.ipynb",
      "provenance": []
    },
    "kernelspec": {
      "name": "python3",
      "display_name": "Python 3"
    },
    "language_info": {
      "name": "python"
    }
  },
  "cells": [
    {
      "cell_type": "code",
      "metadata": {
        "id": "arukRd6rJi8y"
      },
      "source": [
        "!pip install keras-rl2\n",
        "!pip3 install Box2D\n",
        "!pip3 install box2d-py\n",
        "!pip3 install gym[all]\n",
        "!pip3 install gym[Box_2D]\n",
        "!apt-get install swig"
      ],
      "execution_count": null,
      "outputs": []
    },
    {
      "cell_type": "code",
      "metadata": {
        "id": "xiEgSwomJp3R"
      },
      "source": [
        "import gym \n",
        "import os \n",
        "from tensorflow.keras.layers import Dense,Flatten \n",
        "from tensorflow.keras.models import Sequential \n",
        "from tensorflow.keras.optimizers import Adam\n",
        "from rl.agents import DQNAgent \n",
        "from rl.memory import SequentialMemory\n",
        "from rl.policy import BoltzmannQPolicy"
      ],
      "execution_count": 6,
      "outputs": []
    },
    {
      "cell_type": "code",
      "metadata": {
        "id": "iETfHf8FJ-9d"
      },
      "source": [
        "env = gym.make('LunarLander-v2')"
      ],
      "execution_count": 3,
      "outputs": []
    },
    {
      "cell_type": "code",
      "metadata": {
        "id": "PUK5gm9cKCAs"
      },
      "source": [
        "states = env.observation_space.shape[0] \n",
        "actions = env.action_space.n"
      ],
      "execution_count": 4,
      "outputs": []
    },
    {
      "cell_type": "code",
      "metadata": {
        "colab": {
          "base_uri": "https://localhost:8080/"
        },
        "id": "XyX7VeHiKJGJ",
        "outputId": "a5f117b7-7176-4cbd-c7b1-ad10576614ae"
      },
      "source": [
        "states , actions "
      ],
      "execution_count": 5,
      "outputs": [
        {
          "output_type": "execute_result",
          "data": {
            "text/plain": [
              "(8, 4)"
            ]
          },
          "metadata": {},
          "execution_count": 5
        }
      ]
    },
    {
      "cell_type": "code",
      "metadata": {
        "id": "0_tlCYj2NGmT"
      },
      "source": [
        "def build_model(states,actions):\n",
        "  model = Sequential()\n",
        "  model.add(Flatten(input_shape=(1,states)))\n",
        "  model.add(Dense(128,activation='relu'))\n",
        "  model.add(Dense(64,activation='relu'))\n",
        "  model.add(Dense(32,activation='relu'))\n",
        "  model.add(Dense(actions,activation='linear'))\n",
        "  return model"
      ],
      "execution_count": 14,
      "outputs": []
    },
    {
      "cell_type": "code",
      "metadata": {
        "id": "GTwnCwn2N2zi"
      },
      "source": [
        "def build_agent(model,actions):\n",
        "  policy = BoltzmannQPolicy()\n",
        "  memory = SequentialMemory(limit=50000,window_length=1)\n",
        "  dqn = DQNAgent(memory=memory,model=model,policy=policy,nb_actions=actions,nb_steps_warmup=10,target_model_update=1e-2)\n",
        "  dqn.compile(Adam(learning_rate=1e-3),metrics=['mae'])\n",
        "  return dqn"
      ],
      "execution_count": 10,
      "outputs": []
    },
    {
      "cell_type": "code",
      "metadata": {
        "id": "ew5MGMU7OUa-"
      },
      "source": [
        "model = build_model(states,actions)\n",
        "dqn = build_agent(model,actions)"
      ],
      "execution_count": 11,
      "outputs": []
    },
    {
      "cell_type": "code",
      "metadata": {
        "colab": {
          "base_uri": "https://localhost:8080/"
        },
        "id": "0akbM8cpO26Z",
        "outputId": "fc665187-3e96-47d0-fa2e-9eacfa2335ee"
      },
      "source": [
        "dqn.fit(env,nb_steps=50000,visualize=False)"
      ],
      "execution_count": 15,
      "outputs": [
        {
          "output_type": "stream",
          "name": "stdout",
          "text": [
            "Training for 50000 steps ...\n",
            "Interval 1 (0 steps performed)\n",
            "10000/10000 [==============================] - 120s 12ms/step - reward: 0.0929\n",
            "10 episodes - episode_reward: 84.677 [-20.254, 122.766] - loss: 3.697 - mae: 39.001 - mean_q: 51.996\n",
            "\n",
            "Interval 2 (10000 steps performed)\n",
            "10000/10000 [==============================] - 113s 11ms/step - reward: 0.0892\n",
            "10 episodes - episode_reward: 87.508 [54.180, 121.609] - loss: 2.348 - mae: 37.484 - mean_q: 50.637\n",
            "\n",
            "Interval 3 (20000 steps performed)\n",
            "10000/10000 [==============================] - 111s 11ms/step - reward: 0.1255\n",
            "10 episodes - episode_reward: 120.768 [71.326, 159.506] - loss: 1.729 - mae: 34.501 - mean_q: 46.708\n",
            "\n",
            "Interval 4 (30000 steps performed)\n",
            "10000/10000 [==============================] - 112s 11ms/step - reward: 0.1081\n",
            "11 episodes - episode_reward: 110.292 [10.438, 152.745] - loss: 1.194 - mae: 32.021 - mean_q: 43.405\n",
            "\n",
            "Interval 5 (40000 steps performed)\n",
            "10000/10000 [==============================] - 111s 11ms/step - reward: 0.1153\n",
            "done, took 567.330 seconds\n"
          ]
        },
        {
          "output_type": "execute_result",
          "data": {
            "text/plain": [
              "<keras.callbacks.History at 0x7fef84a7fe50>"
            ]
          },
          "metadata": {},
          "execution_count": 15
        }
      ]
    },
    {
      "cell_type": "code",
      "metadata": {
        "colab": {
          "base_uri": "https://localhost:8080/"
        },
        "id": "MZI-BlYHPFrD",
        "outputId": "4bc46e8f-3900-4166-fa62-39063840000a"
      },
      "source": [
        "scores = dqn.test(env,nb_episodes=100,visualize=False)\n",
        "\n",
        "import numpy as np \n",
        "\n",
        "print(\"AVERAGE REWARD :\", np.mean(scores.history['episode_reward']))"
      ],
      "execution_count": 16,
      "outputs": [
        {
          "output_type": "stream",
          "name": "stdout",
          "text": [
            "Testing for 100 episodes ...\n",
            "Episode 1: reward: 131.668, steps: 1000\n",
            "Episode 2: reward: 224.043, steps: 380\n",
            "Episode 3: reward: -72.863, steps: 487\n",
            "Episode 4: reward: 278.314, steps: 404\n",
            "Episode 5: reward: -31.983, steps: 415\n",
            "Episode 6: reward: 270.683, steps: 378\n",
            "Episode 7: reward: 222.725, steps: 385\n",
            "Episode 8: reward: 157.604, steps: 398\n",
            "Episode 9: reward: 253.646, steps: 338\n",
            "Episode 10: reward: 229.508, steps: 359\n",
            "Episode 11: reward: 217.636, steps: 325\n",
            "Episode 12: reward: 178.921, steps: 418\n",
            "Episode 13: reward: -70.447, steps: 555\n",
            "Episode 14: reward: 243.639, steps: 323\n",
            "Episode 15: reward: 212.534, steps: 449\n",
            "Episode 16: reward: 250.793, steps: 371\n",
            "Episode 17: reward: 257.666, steps: 371\n",
            "Episode 18: reward: 275.288, steps: 379\n",
            "Episode 19: reward: 203.359, steps: 341\n",
            "Episode 20: reward: 275.678, steps: 368\n",
            "Episode 21: reward: 238.674, steps: 423\n",
            "Episode 22: reward: 240.769, steps: 466\n",
            "Episode 23: reward: 260.134, steps: 419\n",
            "Episode 24: reward: 250.384, steps: 338\n",
            "Episode 25: reward: -45.221, steps: 345\n",
            "Episode 26: reward: 198.122, steps: 487\n",
            "Episode 27: reward: 260.197, steps: 371\n",
            "Episode 28: reward: 264.173, steps: 393\n",
            "Episode 29: reward: 243.999, steps: 321\n",
            "Episode 30: reward: 246.109, steps: 423\n",
            "Episode 31: reward: 222.455, steps: 383\n",
            "Episode 32: reward: 236.361, steps: 445\n",
            "Episode 33: reward: 182.503, steps: 609\n",
            "Episode 34: reward: 235.030, steps: 403\n",
            "Episode 35: reward: 249.392, steps: 326\n",
            "Episode 36: reward: 262.413, steps: 330\n",
            "Episode 37: reward: 237.869, steps: 431\n",
            "Episode 38: reward: 254.779, steps: 314\n",
            "Episode 39: reward: 223.571, steps: 313\n",
            "Episode 40: reward: 229.104, steps: 323\n",
            "Episode 41: reward: 236.486, steps: 505\n",
            "Episode 42: reward: 245.543, steps: 374\n",
            "Episode 43: reward: 240.478, steps: 299\n",
            "Episode 44: reward: 258.654, steps: 436\n",
            "Episode 45: reward: 243.569, steps: 428\n",
            "Episode 46: reward: 258.471, steps: 407\n",
            "Episode 47: reward: 188.640, steps: 506\n",
            "Episode 48: reward: 259.781, steps: 396\n",
            "Episode 49: reward: 264.982, steps: 305\n",
            "Episode 50: reward: 246.348, steps: 346\n",
            "Episode 51: reward: 184.042, steps: 419\n",
            "Episode 52: reward: 131.376, steps: 1000\n",
            "Episode 53: reward: 247.843, steps: 395\n",
            "Episode 54: reward: 207.953, steps: 325\n",
            "Episode 55: reward: 266.739, steps: 373\n",
            "Episode 56: reward: 106.287, steps: 1000\n",
            "Episode 57: reward: 228.418, steps: 432\n",
            "Episode 58: reward: 209.909, steps: 431\n",
            "Episode 59: reward: 244.727, steps: 370\n",
            "Episode 60: reward: 250.666, steps: 327\n",
            "Episode 61: reward: 152.883, steps: 1000\n",
            "Episode 62: reward: 197.506, steps: 376\n",
            "Episode 63: reward: 261.269, steps: 346\n",
            "Episode 64: reward: 97.382, steps: 859\n",
            "Episode 65: reward: 244.073, steps: 440\n",
            "Episode 66: reward: 257.045, steps: 356\n",
            "Episode 67: reward: 211.321, steps: 335\n",
            "Episode 68: reward: 221.241, steps: 454\n",
            "Episode 69: reward: 277.359, steps: 371\n",
            "Episode 70: reward: 267.859, steps: 398\n",
            "Episode 71: reward: -36.909, steps: 442\n",
            "Episode 72: reward: 121.252, steps: 1000\n",
            "Episode 73: reward: 164.053, steps: 465\n",
            "Episode 74: reward: 73.276, steps: 1000\n",
            "Episode 75: reward: 84.037, steps: 1000\n",
            "Episode 76: reward: 237.264, steps: 371\n",
            "Episode 77: reward: 240.773, steps: 330\n",
            "Episode 78: reward: 257.344, steps: 334\n",
            "Episode 79: reward: 232.110, steps: 327\n",
            "Episode 80: reward: 241.771, steps: 341\n",
            "Episode 81: reward: 225.174, steps: 342\n",
            "Episode 82: reward: 263.600, steps: 409\n",
            "Episode 83: reward: 251.027, steps: 472\n",
            "Episode 84: reward: 136.417, steps: 1000\n",
            "Episode 85: reward: 236.970, steps: 335\n",
            "Episode 86: reward: 247.278, steps: 366\n",
            "Episode 87: reward: -44.067, steps: 401\n",
            "Episode 88: reward: 215.767, steps: 319\n",
            "Episode 89: reward: 226.557, steps: 480\n",
            "Episode 90: reward: 230.022, steps: 500\n",
            "Episode 91: reward: 253.376, steps: 375\n",
            "Episode 92: reward: 250.226, steps: 329\n",
            "Episode 93: reward: 117.893, steps: 1000\n",
            "Episode 94: reward: 93.591, steps: 1000\n",
            "Episode 95: reward: 276.636, steps: 381\n",
            "Episode 96: reward: 240.577, steps: 419\n",
            "Episode 97: reward: 273.401, steps: 364\n",
            "Episode 98: reward: 127.295, steps: 1000\n",
            "Episode 99: reward: 250.624, steps: 344\n",
            "Episode 100: reward: 274.006, steps: 377\n",
            "AVERAGE REWARD : 206.69417458032547\n"
          ]
        }
      ]
    },
    {
      "cell_type": "code",
      "metadata": {
        "id": "O-OUXQ97QIqa"
      },
      "source": [
        "os.mkdir('Models')\n",
        "model_path = os.path.join('Models','lunarlanderv2_kerasrl')"
      ],
      "execution_count": 17,
      "outputs": []
    },
    {
      "cell_type": "code",
      "metadata": {
        "id": "wyOVsI2OUBnt"
      },
      "source": [
        "dqn.save_weights(model_path)"
      ],
      "execution_count": 18,
      "outputs": []
    },
    {
      "cell_type": "code",
      "metadata": {
        "id": "pyKhs-UcUwDO"
      },
      "source": [
        ""
      ],
      "execution_count": null,
      "outputs": []
    }
  ]
}