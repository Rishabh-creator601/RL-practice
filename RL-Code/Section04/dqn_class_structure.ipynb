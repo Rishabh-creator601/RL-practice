{
 "cells": [
  {
   "cell_type": "code",
   "execution_count": 17,
   "metadata": {
    "collapsed": true
   },
   "outputs": [],
   "source": [
    "import gym\n",
    "import numpy as np\n",
    "import tensorflow as tf"
   ]
  },
  {
   "cell_type": "code",
   "execution_count": 18,
   "metadata": {},
   "outputs": [
    {
     "name": "stdout",
     "output_type": "stream",
     "text": [
      "\u001b[33mWARN: gym.spaces.Box autodetected dtype as <class 'numpy.float32'>. Please provide explicit dtype.\u001b[0m\n"
     ]
    }
   ],
   "source": [
    "env = gym.make(\"CartPole-v0\")"
   ]
  },
  {
   "cell_type": "code",
   "execution_count": 19,
   "metadata": {
    "collapsed": true
   },
   "outputs": [],
   "source": [
    "num_input_neurons = len(env.reset())\n",
    "num_ouptut_neurons = env.action_space.n\n",
    "hidden_layer_dimensions = [16, 32, 32]\n",
    "\n",
    "learning_rate = 0.0001"
   ]
  },
  {
   "cell_type": "code",
   "execution_count": 20,
   "metadata": {
    "collapsed": true
   },
   "outputs": [],
   "source": [
    "class DQN:\n",
    "    def __init__(self,\n",
    "                 session,\n",
    "                 input_size,\n",
    "                 hidden_layer_sizes,\n",
    "                 output_size,\n",
    "                 learning_rate):\n",
    "        \n",
    "        self.session = session\n",
    "        self.input_size = input_size\n",
    "        self.hidden_layer_sizes = hidden_layer_sizes\n",
    "        self.output_size = output_size\n",
    "        self.learning_rate = learning_rate\n",
    "        \n",
    "        self.input_layer = tf.placeholder(shape=[1, self.input_size],\n",
    "                                     dtype=tf.float32)\n",
    "        \n",
    "        net = self.input_layer\n",
    "        for layer_size in self.hidden_layer_sizes:\n",
    "            net = tf.layers.dense(net, layer_size, activation=tf.nn.relu)\n",
    "        \n",
    "        self.output = tf.layers.dense(net, self.output_size, activation=None)\n",
    "        \n",
    "        # Placeholder for expected q-values\n",
    "        self.y = tf.placeholder(shape=[1, self.output_size], dtype=tf.float32)\n",
    "        \n",
    "        # Using the loss method provided by tf directly\n",
    "        self.loss = tf.losses.mean_squared_error(self.y, self.output)\n",
    "        \n",
    "        self.optimizer = tf.train.AdamOptimizer(\n",
    "            learning_rate=self.learning_rate).minimize(self.loss)\n",
    "        \n",
    "        def predict(self, state):\n",
    "            return self.session.run(self.output,\n",
    "                                    feed_dict={self.input: np.reshape(state, [-1, self.input_size])})\n",
    "\n",
    "        def update(self, state, y):\n",
    "            return self.session.run([self.loss, self.optimizer],\n",
    "                                     feed_dict={\n",
    "                                             self.input: state,\n",
    "                                             self.y: y\n",
    "                                     })"
   ]
  },
  {
   "cell_type": "code",
   "execution_count": 21,
   "metadata": {
    "collapsed": true
   },
   "outputs": [],
   "source": [
    "with tf.Session() as sess:\n",
    "    main_dqn = DQN(session=sess,\n",
    "                   input_size=num_input_neurons,\n",
    "                   hidden_layer_sizes=hidden_layer_dimensions,\n",
    "                   output_size=num_ouptut_neurons,\n",
    "                   learning_rate=learning_rate)\n",
    "    \n",
    "    target_dqn = DQN(session=sess,\n",
    "                     input_size=num_input_neurons,\n",
    "                     hidden_layer_sizes=hidden_layer_dimensions,\n",
    "                     output_size=num_ouptut_neurons,\n",
    "                     learning_rate=learning_rate)\n",
    "    \n",
    "    sess.run(tf.global_variables_initializer())\n",
    "    \n",
    "    # Make the weights/config identical to begin with\n",
    "    # How?"
   ]
  },
  {
   "cell_type": "code",
   "execution_count": null,
   "metadata": {
    "collapsed": true
   },
   "outputs": [],
   "source": []
  }
 ],
 "metadata": {
  "kernelspec": {
   "display_name": "packt_rl",
   "language": "python",
   "name": "packt_rl"
  },
  "language_info": {
   "codemirror_mode": {
    "name": "ipython",
    "version": 3
   },
   "file_extension": ".py",
   "mimetype": "text/x-python",
   "name": "python",
   "nbconvert_exporter": "python",
   "pygments_lexer": "ipython3",
   "version": "3.5.2"
  }
 },
 "nbformat": 4,
 "nbformat_minor": 2
}
