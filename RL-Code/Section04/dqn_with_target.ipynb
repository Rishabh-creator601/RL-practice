{
 "cells": [
  {
   "cell_type": "code",
   "execution_count": null,
   "metadata": {
    "collapsed": true
   },
   "outputs": [],
   "source": [
    "import gym\n",
    "import numpy as np\n",
    "import tensorflow as tf"
   ]
  },
  {
   "cell_type": "code",
   "execution_count": null,
   "metadata": {
    "collapsed": true
   },
   "outputs": [],
   "source": [
    "env = gym.make(\"CartPole-v0\")"
   ]
  },
  {
   "cell_type": "code",
   "execution_count": null,
   "metadata": {
    "collapsed": true
   },
   "outputs": [],
   "source": [
    "num_input_neurons = len(env.reset())\n",
    "num_ouptut_neurons = env.action_space.n\n",
    "hidden_layer_dimensions = [16, 32, 32]\n",
    "\n",
    "learning_rate = 0.0001"
   ]
  },
  {
   "cell_type": "code",
   "execution_count": null,
   "metadata": {
    "collapsed": true
   },
   "outputs": [],
   "source": [
    "class DQN:\n",
    "    def __init__(self,\n",
    "                 session,\n",
    "                 scope_name,\n",
    "                 input_size,\n",
    "                 hidden_layer_sizes,\n",
    "                 output_size,\n",
    "                 learning_rate):\n",
    "        \n",
    "        self.session = session\n",
    "        self.scope_name = scope_name\n",
    "        self.input_size = input_size\n",
    "        self.hidden_layer_sizes = hidden_layer_sizes\n",
    "        self.output_size = output_size\n",
    "        self.learning_rate = learning_rate\n",
    "        \n",
    "        with tf.variable_scope(self.scope_name):\n",
    "            self.input = tf.placeholder(shape=[None, self.input_size],\n",
    "                                        dtype=tf.float32)\n",
    "\n",
    "            net = self.input\n",
    "            for layer_num, layer_size in enumerate(self.hidden_layer_sizes):\n",
    "                net = tf.layers.dense(net,\n",
    "                                      layer_size,\n",
    "                                      activation=tf.nn.relu)\n",
    "\n",
    "            self.output = tf.layers.dense(net,\n",
    "                                          self.output_size,\n",
    "                                          activation=None)\n",
    "\n",
    "            # Placeholder for expected q-values\n",
    "            self.y = tf.placeholder(shape=[None, self.output_size], dtype=tf.float32)\n",
    "\n",
    "            # Using the loss method provided by tf directly\n",
    "            self.loss = tf.losses.mean_squared_error(self.y, self.output)\n",
    "\n",
    "            self.optimizer = tf.train.AdamOptimizer(\n",
    "                learning_rate=self.learning_rate).minimize(self.loss)\n",
    "    \n",
    "    def predict(self, state):\n",
    "        return self.session.run(self.output,\n",
    "                                feed_dict={self.input: np.reshape(state, [-1, self.input_size])})\n",
    "    \n",
    "    def update(self, state, y):\n",
    "        return self.session.run([self.loss, self.optimizer],\n",
    "                              feed_dict={\n",
    "                                    self.input: state,\n",
    "                                    self.y: y\n",
    "                              })\n",
    "    \n",
    "    @staticmethod\n",
    "    def create_copy_operations(source_scope, dest_scope):\n",
    "        source_vars = tf.get_collection(tf.GraphKeys.GLOBAL_VARIABLES, scope=source_scope)\n",
    "        dest_vars = tf.get_collection(tf.GraphKeys.GLOBAL_VARIABLES, scope=dest_scope)\n",
    "        \n",
    "        assert len(source_vars) == len(dest_vars)\n",
    "        result = []\n",
    "        \n",
    "        for source_var, dest_var in zip(source_vars, dest_vars):\n",
    "            result.append(dest_var.assign(source_var.value()))\n",
    "        \n",
    "        return result"
   ]
  },
  {
   "cell_type": "code",
   "execution_count": null,
   "metadata": {
    "collapsed": true
   },
   "outputs": [],
   "source": [
    "with tf.Session() as sess:\n",
    "\n",
    "    main_dqn = DQN(session=sess,\n",
    "                   scope_name=\"q_main\",\n",
    "                   input_size=num_input_neurons,\n",
    "                   hidden_layer_sizes=hidden_layer_dimensions,\n",
    "                   output_size=num_ouptut_neurons,\n",
    "                   learning_rate=learning_rate)\n",
    "    \n",
    "    target_dqn = DQN(session=sess,\n",
    "                     scope_name=\"q_target\",\n",
    "                     input_size=num_input_neurons,\n",
    "                     hidden_layer_sizes=hidden_layer_dimensions,\n",
    "                     output_size=num_ouptut_neurons,\n",
    "                     learning_rate=learning_rate)\n",
    "    \n",
    "    sess.run(tf.global_variables_initializer())\n",
    "\n",
    "    # Make them identical to begin with\n",
    "    sess.run(DQN.create_copy_operations(\"q_main\", \"q_target\"))\n",
    "    \n",
    "    # Experience replay and Training logic"
   ]
  },
  {
   "cell_type": "code",
   "execution_count": null,
   "metadata": {
    "collapsed": true
   },
   "outputs": [],
   "source": []
  }
 ],
 "metadata": {
  "kernelspec": {
   "display_name": "packt_rl",
   "language": "python",
   "name": "packt_rl"
  },
  "language_info": {
   "codemirror_mode": {
    "name": "ipython",
    "version": 3
   },
   "file_extension": ".py",
   "mimetype": "text/x-python",
   "name": "python",
   "nbconvert_exporter": "python",
   "pygments_lexer": "ipython3",
   "version": "3.5.2"
  }
 },
 "nbformat": 4,
 "nbformat_minor": 2
}
