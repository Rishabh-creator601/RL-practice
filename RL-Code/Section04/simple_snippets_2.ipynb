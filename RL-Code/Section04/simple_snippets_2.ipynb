{
 "cells": [
  {
   "cell_type": "code",
   "execution_count": 7,
   "metadata": {},
   "outputs": [
    {
     "name": "stdout",
     "output_type": "stream",
     "text": [
      "3.5\n",
      "[3.5 3.5 3.5]\n",
      "[3.5 3.5 3.5]\n",
      "[5. 2.]\n",
      "[[5.]\n",
      " [2.]]\n"
     ]
    }
   ],
   "source": [
    "import tensorflow as tf\n",
    "\n",
    "x = tf.constant([[5., 5., 5.],\n",
    "                 [2., 2., 2.]])\n",
    "\n",
    "with tf.Session() as sess:\n",
    "    print(tf.reduce_mean(x).eval())\n",
    "    print(tf.reduce_mean(x, reduction_indices=0).eval())\n",
    "    print(tf.reduce_mean(x, axis=0).eval())\n",
    "    print(tf.reduce_mean(x, axis=1).eval())\n",
    "    print(tf.reduce_mean(x, axis=1, keepdims=True).eval())"
   ]
  },
  {
   "cell_type": "code",
   "execution_count": null,
   "metadata": {
    "collapsed": true
   },
   "outputs": [],
   "source": []
  }
 ],
 "metadata": {
  "kernelspec": {
   "display_name": "packt_rl",
   "language": "python",
   "name": "packt_rl"
  },
  "language_info": {
   "codemirror_mode": {
    "name": "ipython",
    "version": 3
   },
   "file_extension": ".py",
   "mimetype": "text/x-python",
   "name": "python",
   "nbconvert_exporter": "python",
   "pygments_lexer": "ipython3",
   "version": "3.5.2"
  }
 },
 "nbformat": 4,
 "nbformat_minor": 2
}
