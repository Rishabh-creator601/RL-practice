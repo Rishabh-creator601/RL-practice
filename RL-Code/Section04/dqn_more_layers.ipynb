{
 "cells": [
  {
   "cell_type": "code",
   "execution_count": null,
   "metadata": {
    "collapsed": true
   },
   "outputs": [],
   "source": [
    "import gym\n",
    "import numpy as np\n",
    "import tensorflow as tf"
   ]
  },
  {
   "cell_type": "code",
   "execution_count": null,
   "metadata": {},
   "outputs": [],
   "source": [
    "env = gym.make(\"CartPole-v0\")"
   ]
  },
  {
   "cell_type": "code",
   "execution_count": null,
   "metadata": {
    "collapsed": true
   },
   "outputs": [],
   "source": [
    "num_input_neurons = len(env.reset())\n",
    "num_ouptut_neurons = env.action_space.n\n",
    "hidden_layer_dimensions = [16, 32, 32]\n",
    "\n",
    "learning_rate = 0.0001"
   ]
  },
  {
   "cell_type": "code",
   "execution_count": null,
   "metadata": {
    "collapsed": true
   },
   "outputs": [],
   "source": [
    "# Building the network\n",
    "input_obs = tf.placeholder(shape=[1, num_input_neurons],\n",
    "                           dtype=tf.float32)\n",
    "net = input_obs\n",
    "\n",
    "for layer_size in hidden_layer_dimensions:\n",
    "    # can also use tf.contrib.fully_connected(net, layer_size)\n",
    "    net = tf.layers.dense(net, layer_size, activation=tf.nn.relu)\n",
    "\n",
    "output = tf.layers.dense(net, num_ouptut_neurons, activation=None)\n",
    "best_action = tf.argmax(output, 1)"
   ]
  },
  {
   "cell_type": "code",
   "execution_count": null,
   "metadata": {
    "collapsed": true
   },
   "outputs": [],
   "source": [
    "# Placeholder for expected q-values\n",
    "y = tf.placeholder(shape=[1, num_ouptut_neurons], dtype=tf.float32)\n",
    "\n",
    "# Using the loss method provided by tf directly\n",
    "loss = tf.losses.mean_squared_error(y, output)\n",
    "optimizer = tf.train.AdamOptimizer(learning_rate=learning_rate).minimize(loss)"
   ]
  }
 ],
 "metadata": {
  "kernelspec": {
   "display_name": "packt_rl",
   "language": "python",
   "name": "packt_rl"
  },
  "language_info": {
   "codemirror_mode": {
    "name": "ipython",
    "version": 3
   },
   "file_extension": ".py",
   "mimetype": "text/x-python",
   "name": "python",
   "nbconvert_exporter": "python",
   "pygments_lexer": "ipython3",
   "version": "3.5.2"
  }
 },
 "nbformat": 4,
 "nbformat_minor": 2
}
