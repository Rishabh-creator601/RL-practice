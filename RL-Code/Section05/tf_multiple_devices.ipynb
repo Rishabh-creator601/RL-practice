{
  "nbformat": 4,
  "nbformat_minor": 0,
  "metadata": {
    "colab": {
      "name": "tf_multiple_devices.ipynb",
      "version": "0.3.2",
      "provenance": [],
      "collapsed_sections": [
        "7yxV8FQreXqB",
        "4awutY0feLTy",
        "HRaE0WGuee4B",
        "_gzhH2Frekda",
        "oO7cFQy8enzt",
        "loILucGNeq7N"
      ]
    },
    "kernelspec": {
      "name": "python3",
      "display_name": "Python 3"
    },
    "accelerator": "GPU"
  },
  "cells": [
    {
      "metadata": {
        "id": "6TqpncLZNBLi",
        "colab_type": "code",
        "colab": {}
      },
      "cell_type": "code",
      "source": [
        "import tensorflow as tf"
      ],
      "execution_count": 0,
      "outputs": []
    },
    {
      "metadata": {
        "id": "7yxV8FQreXqB",
        "colab_type": "text"
      },
      "cell_type": "markdown",
      "source": [
        "### Getting the list of devices"
      ]
    },
    {
      "metadata": {
        "id": "POEdJJlpNWPP",
        "colab_type": "code",
        "colab": {
          "base_uri": "https://localhost:8080/",
          "height": 319
        },
        "outputId": "9aab9295-c6b7-4c19-854a-eaff910da1eb"
      },
      "cell_type": "code",
      "source": [
        "from tensorflow.python.client import device_lib\n",
        "print(device_lib.list_local_devices())"
      ],
      "execution_count": 2,
      "outputs": [
        {
          "output_type": "stream",
          "text": [
            "[name: \"/device:CPU:0\"\n",
            "device_type: \"CPU\"\n",
            "memory_limit: 268435456\n",
            "locality {\n",
            "}\n",
            "incarnation: 5896570867293682093\n",
            ", name: \"/device:GPU:0\"\n",
            "device_type: \"GPU\"\n",
            "memory_limit: 11281989632\n",
            "locality {\n",
            "  bus_id: 1\n",
            "  links {\n",
            "  }\n",
            "}\n",
            "incarnation: 3316875706752604150\n",
            "physical_device_desc: \"device: 0, name: Tesla K80, pci bus id: 0000:00:04.0, compute capability: 3.7\"\n",
            "]\n"
          ],
          "name": "stdout"
        }
      ]
    },
    {
      "metadata": {
        "id": "4awutY0feLTy",
        "colab_type": "text"
      },
      "cell_type": "markdown",
      "source": [
        "### Logging the device during execution"
      ]
    },
    {
      "metadata": {
        "id": "to7BTYJNNrFc",
        "colab_type": "code",
        "colab": {
          "base_uri": "https://localhost:8080/",
          "height": 35
        },
        "outputId": "809471ee-1bef-4a49-f63a-11bd007fd810"
      },
      "cell_type": "code",
      "source": [
        "matrix_1 = tf.constant([[3, 5]])\n",
        "matrix_2 = tf.constant([[2],[4]])\n",
        "\n",
        "product = tf.matmul(matrix_1, matrix_2)\n",
        "\n",
        "with tf.Session(config=tf.ConfigProto(log_device_placement=True)) as sess:\n",
        "  print(sess.run(product))"
      ],
      "execution_count": 3,
      "outputs": [
        {
          "output_type": "stream",
          "text": [
            "[[26]]\n"
          ],
          "name": "stdout"
        }
      ]
    },
    {
      "metadata": {
        "id": "HRaE0WGuee4B",
        "colab_type": "text"
      },
      "cell_type": "markdown",
      "source": [
        "### CPU vs GPU"
      ]
    },
    {
      "metadata": {
        "id": "8IDhcImYO0hR",
        "colab_type": "code",
        "colab": {
          "base_uri": "https://localhost:8080/",
          "height": 73
        },
        "outputId": "0e69ee4f-2593-4690-da91-cb4c25b6fb92"
      },
      "cell_type": "code",
      "source": [
        "import time\n",
        "\n",
        "device_with_times = {\n",
        "    \"/device:CPU:0\":[],\n",
        "    \"/device:GPU:0\":[]\n",
        "}\n",
        "matrix_sizes = range(500,5000,500)\n",
        "\n",
        "for size in matrix_sizes:\n",
        "    for device_name in device_with_times.keys():\n",
        "        shape = (size,size)\n",
        "        with tf.device(device_name):\n",
        "            matrix_1 = tf.random_uniform(shape=shape)\n",
        "            matrix_2 = tf.random_uniform(shape=shape)\n",
        "            product = tf.matmul(matrix_1, matrix_2)\n",
        "\n",
        "        with tf.Session(config=tf.ConfigProto(log_device_placement=True)) as sess:\n",
        "                start_time = time.time()\n",
        "                result = sess.run(product)\n",
        "                time_taken = time.time() - start_time\n",
        "                device_with_times[device_name].append(time_taken)\n",
        "\n",
        "cpu_times = device_with_times[\"/device:CPU:0\"]\n",
        "gpu_times = device_with_times[\"/device:GPU:0\"]\n",
        "print(\"CPU:\", cpu_times)\n",
        "print(\"GPU:\", gpu_times)"
      ],
      "execution_count": 4,
      "outputs": [
        {
          "output_type": "stream",
          "text": [
            "CPU: [0.016841650009155273, 0.05473446846008301, 0.12443780899047852, 0.2377021312713623, 0.35091328620910645, 0.550788164138794, 1.0631613731384277, 2.1046807765960693, 2.929041624069214]\n",
            "GPU: [0.17808175086975098, 0.012151479721069336, 0.022293806076049805, 0.01881551742553711, 0.033457279205322266, 0.04677152633666992, 0.07753682136535645, 0.11061835289001465, 0.12297892570495605]\n"
          ],
          "name": "stdout"
        }
      ]
    },
    {
      "metadata": {
        "id": "_gzhH2Frekda",
        "colab_type": "text"
      },
      "cell_type": "markdown",
      "source": [
        "### Plotting the results"
      ]
    },
    {
      "metadata": {
        "id": "vBjDIPo9VEPg",
        "colab_type": "code",
        "colab": {
          "base_uri": "https://localhost:8080/",
          "height": 279
        },
        "outputId": "0bd907b8-b915-4fc7-f4f3-152d8e9739a7"
      },
      "cell_type": "code",
      "source": [
        "import matplotlib\n",
        "import matplotlib.pyplot as plt\n",
        "\n",
        "%matplotlib inline\n",
        "\n",
        "plt.plot(matrix_sizes[:len(gpu_times)], gpu_times, 'o-')\n",
        "plt.plot(matrix_sizes[:len(cpu_times)], cpu_times, 'o-')\n",
        "plt.ylabel('Time')\n",
        "plt.xlabel('Matrix size')\n",
        "plt.show()"
      ],
      "execution_count": 5,
      "outputs": [
        {
          "output_type": "display_data",
          "data": {
            "image/png": "[encoded data removed]",
            "text/plain": [
              "<matplotlib.figure.Figure at 0x7f5e93508da0>"
            ]
          },
          "metadata": {
            "tags": []
          }
        }
      ]
    },
    {
      "metadata": {
        "id": "oO7cFQy8enzt",
        "colab_type": "text"
      },
      "cell_type": "markdown",
      "source": [
        "###  Model paralellism"
      ]
    },
    {
      "metadata": {
        "id": "FSskJ1w2Wok8",
        "colab_type": "code",
        "colab": {
          "base_uri": "https://localhost:8080/",
          "height": 53
        },
        "outputId": "b51ef60b-efd1-4938-c7fa-e97b25b1ee48"
      },
      "cell_type": "code",
      "source": [
        "matrix_1 = tf.random_uniform([2, 3])\n",
        "matrix_2 = tf.random_uniform([3, 3])\n",
        "\n",
        "products = []\n",
        "\n",
        "with tf.device('/device:GPU:0'):\n",
        "    products.append(tf.matmul(matrix_1, matrix_2))\n",
        "\n",
        "with tf.device('/device:GPU:1'):\n",
        "    products.append(tf.matmul(matrix_1, matrix_2))\n",
        "\n",
        "with tf.device('/device:CPU:0'):\n",
        "    sum_of_products = tf.add_n(products)\n",
        "\n",
        "with tf.Session(config=tf.ConfigProto(log_device_placement=True, allow_soft_placement=True)) as sess:\n",
        "  init = tf.global_variables_initializer()\n",
        "  sess.run(init)\n",
        "\n",
        "  print(sess.run(sum_of_products))"
      ],
      "execution_count": 6,
      "outputs": [
        {
          "output_type": "stream",
          "text": [
            "[[0.9370578  2.6723866  0.5972967 ]\n",
            " [0.86552775 2.5983357  0.5942787 ]]\n"
          ],
          "name": "stdout"
        }
      ]
    },
    {
      "metadata": {
        "id": "loILucGNeq7N",
        "colab_type": "text"
      },
      "cell_type": "markdown",
      "source": [
        "### Data Paralellism"
      ]
    },
    {
      "metadata": {
        "id": "YqUQJ87uZV19",
        "colab_type": "code",
        "colab": {
          "base_uri": "https://localhost:8080/",
          "height": 53
        },
        "outputId": "f729e682-ac75-413c-c72c-8abbe70ec982"
      },
      "cell_type": "code",
      "source": [
        "available_devices = [\"/device:GPU:0\", \"/device:GPU:1\"]\n",
        "num_devices = len(available_devices)\n",
        "\n",
        "matrices_x = tf.random_uniform([num_devices, 2, 3])\n",
        "matrices_y = tf.random_uniform([num_devices, 3, 3])\n",
        "\n",
        "products = []\n",
        "\n",
        "# Multiple towers\n",
        "# Tower i is responsible for batch data i\n",
        "for i, d in enumerate(available_devices):\n",
        "    with tf.device(d):\n",
        "        products.append(tf.matmul(matrices_x[i], matrices_y[i])) \n",
        "\n",
        "with tf.device(\"/device:CPU:0\"):\n",
        "    sum_of_products = tf.add_n(products)\n",
        "\n",
        "with tf.Session(config=tf.ConfigProto(log_device_placement=True, allow_soft_placement=True)) as sess:\n",
        "  init = tf.global_variables_initializer()\n",
        "  sess.run(init)\n",
        "\n",
        "  print(sess.run(sum_of_products))"
      ],
      "execution_count": 7,
      "outputs": [
        {
          "output_type": "stream",
          "text": [
            "[[2.091125  2.1728518 1.9910071]\n",
            " [2.458892  3.0698667 2.416468 ]]\n"
          ],
          "name": "stdout"
        }
      ]
    },
    {
      "metadata": {
        "id": "Q31YDKfBbVi2",
        "colab_type": "code",
        "colab": {}
      },
      "cell_type": "code",
      "source": [
        ""
      ],
      "execution_count": 0,
      "outputs": []
    }
  ]
}