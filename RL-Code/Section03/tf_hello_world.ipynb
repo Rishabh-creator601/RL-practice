{
 "cells": [
  {
   "cell_type": "markdown",
   "metadata": {},
   "source": [
    "# Product of two numbers in tensorflow"
   ]
  },
  {
   "cell_type": "code",
   "execution_count": 1,
   "metadata": {
    "collapsed": true
   },
   "outputs": [],
   "source": [
    "import tensorflow as tf"
   ]
  },
  {
   "cell_type": "markdown",
   "metadata": {},
   "source": [
    "### 1. Using constants"
   ]
  },
  {
   "cell_type": "code",
   "execution_count": 2,
   "metadata": {},
   "outputs": [
    {
     "name": "stdout",
     "output_type": "stream",
     "text": [
      "Tensor(\"Mul:0\", shape=(), dtype=int32)\n"
     ]
    }
   ],
   "source": [
    "# Define constant declaration operations\n",
    "x = tf.constant(3)\n",
    "y = tf.constant(5)\n",
    "\n",
    "# Multiply operation\n",
    "x_product_y = tf.multiply(x, y)\n",
    "\n",
    "print(x_product_y)"
   ]
  },
  {
   "cell_type": "code",
   "execution_count": 4,
   "metadata": {},
   "outputs": [
    {
     "name": "stdout",
     "output_type": "stream",
     "text": [
      "15\n"
     ]
    }
   ],
   "source": [
    "with tf.Session() as sess:\n",
    "    print(sess.run(x_product_y))"
   ]
  },
  {
   "cell_type": "markdown",
   "metadata": {},
   "source": [
    "#### Visualizing the session graph"
   ]
  },
  {
   "cell_type": "code",
   "execution_count": 5,
   "metadata": {},
   "outputs": [
    {
     "name": "stdout",
     "output_type": "stream",
     "text": [
      "15\n"
     ]
    }
   ],
   "source": [
    "with tf.Session() as sess:\n",
    "    writer = tf.summary.FileWriter(\"summary_logs\", sess.graph)\n",
    "    print(sess.run(x_product_y))\n",
    "    writer.close()"
   ]
  },
  {
   "cell_type": "markdown",
   "metadata": {},
   "source": [
    "### 2. Using variables"
   ]
  },
  {
   "cell_type": "code",
   "execution_count": 6,
   "metadata": {},
   "outputs": [
    {
     "name": "stdout",
     "output_type": "stream",
     "text": [
      "Tensor(\"x_multiply_y_operation:0\", shape=(), dtype=int32)\n"
     ]
    }
   ],
   "source": [
    "# Define variable operations\n",
    "x = tf.Variable(3)\n",
    "y = tf.Variable(5, name=\"variable_y\")\n",
    "\n",
    "# Multiply operation\n",
    "x_product_y = tf.multiply(x, y, name=\"x_multiply_y_operation\")\n",
    "\n",
    "print(x_product_y)"
   ]
  },
  {
   "cell_type": "code",
   "execution_count": 7,
   "metadata": {},
   "outputs": [
    {
     "name": "stdout",
     "output_type": "stream",
     "text": [
      "15\n"
     ]
    }
   ],
   "source": [
    "# Variables need to be initialized before evaluating the graph in the session\n",
    "init = tf.global_variables_initializer()\n",
    "\n",
    "with tf.Session() as sess:\n",
    "    writer = tf.summary.FileWriter(\"summary_logs\", sess.graph)\n",
    "    # Run the initialization operation first\n",
    "    sess.run(init)\n",
    "    print(sess.run(x_product_y))\n",
    "    writer.close()"
   ]
  },
  {
   "cell_type": "markdown",
   "metadata": {},
   "source": [
    "### 3. Using placeholders"
   ]
  },
  {
   "cell_type": "code",
   "execution_count": 8,
   "metadata": {},
   "outputs": [
    {
     "name": "stdout",
     "output_type": "stream",
     "text": [
      "Tensor(\"x_multiply_y_operation_1:0\", dtype=int8)\n"
     ]
    }
   ],
   "source": [
    "# Define placeholder operations\n",
    "x = tf.placeholder(\"int8\", name=\"x_placeholder\")\n",
    "y = tf.placeholder(\"int8\", name=\"y_placeholder\")\n",
    "\n",
    "# Multiply operation\n",
    "x_product_y = tf.multiply(x, y, name=\"x_multiply_y_operation\")\n",
    "\n",
    "print(x_product_y)"
   ]
  },
  {
   "cell_type": "code",
   "execution_count": 9,
   "metadata": {},
   "outputs": [
    {
     "name": "stdout",
     "output_type": "stream",
     "text": [
      "15\n"
     ]
    }
   ],
   "source": [
    "with tf.Session() as sess: # create a session to evaluate the symbolic expressions\n",
    "    writer = tf.summary.FileWriter(\"summary_logs\", sess.graph)\n",
    "    print(sess.run(x_product_y, feed_dict={x: 5, y: 3})) # eval expressions with parameters for x and y\n",
    "    writer.close()"
   ]
  },
  {
   "cell_type": "code",
   "execution_count": null,
   "metadata": {
    "collapsed": true
   },
   "outputs": [],
   "source": []
  }
 ],
 "metadata": {
  "kernelspec": {
   "display_name": "packt_rl",
   "language": "python",
   "name": "packt_rl"
  },
  "language_info": {
   "codemirror_mode": {
    "name": "ipython",
    "version": 3
   },
   "file_extension": ".py",
   "mimetype": "text/x-python",
   "name": "python",
   "nbconvert_exporter": "python",
   "pygments_lexer": "ipython3",
   "version": "3.5.2"
  }
 },
 "nbformat": 4,
 "nbformat_minor": 2
}
