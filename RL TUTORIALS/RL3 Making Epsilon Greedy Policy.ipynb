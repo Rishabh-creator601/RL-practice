{
 "cells": [
  {
   "cell_type": "code",
   "execution_count": 45,
   "id": "c8cd1cf0",
   "metadata": {},
   "outputs": [],
   "source": [
    "import gym\n",
    "import numpy  as np\n",
    "import random \n",
    "from collections import defaultdict as dd\n",
    "import pandas as pd"
   ]
  },
  {
   "cell_type": "code",
   "execution_count": 2,
   "id": "9f552ce0",
   "metadata": {},
   "outputs": [],
   "source": [
    "env = gym.make('Blackjack-v0')"
   ]
  },
  {
   "cell_type": "code",
   "execution_count": 4,
   "id": "ed3ac95d",
   "metadata": {},
   "outputs": [],
   "source": [
    "Q = dd(float)\n",
    "N =dd(int)\n",
    "total_return = dd(float)"
   ]
  },
  {
   "cell_type": "code",
   "execution_count": 31,
   "id": "dfe40251",
   "metadata": {},
   "outputs": [],
   "source": [
    "def epsilon_greedy_policy(state,Q,epsilon=0.5):\n",
    "    \n",
    "    if random.uniform(0,1) < epsilon:\n",
    "        return env.action_space.sample()\n",
    "    else:\n",
    "        return max(list(range(env.action_space.n)) , key = lambda x: Q[(state,x)])\n",
    "\n",
    "    \n",
    "    "
   ]
  },
  {
   "cell_type": "code",
   "execution_count": 32,
   "id": "f6337c60",
   "metadata": {},
   "outputs": [],
   "source": [
    "state = env.reset()"
   ]
  },
  {
   "cell_type": "code",
   "execution_count": 33,
   "id": "3c4362c2",
   "metadata": {},
   "outputs": [],
   "source": [
    "policy = epsilon_greedy_policy"
   ]
  },
  {
   "cell_type": "code",
   "execution_count": 34,
   "id": "b2d33b67",
   "metadata": {},
   "outputs": [
    {
     "data": {
      "text/plain": [
       "0"
      ]
     },
     "execution_count": 34,
     "metadata": {},
     "output_type": "execute_result"
    }
   ],
   "source": [
    "policy(state,Q)"
   ]
  },
  {
   "cell_type": "code",
   "execution_count": 39,
   "id": "d3e75df6",
   "metadata": {},
   "outputs": [],
   "source": [
    "def sample_episode(Q,num=100):\n",
    "    \n",
    "    episodes = []\n",
    "    \n",
    "    state = env.reset()\n",
    "    \n",
    "    for i in range(num):\n",
    "        action = policy(state,Q)\n",
    "        \n",
    "        next_state,reward , done ,_ = env.step(action)\n",
    "        episodes.append((state,action,reward))\n",
    "        state = next_state \n",
    "        if done:\n",
    "            break\n",
    "    return episodes\n",
    "        \n",
    "    \n",
    "    "
   ]
  },
  {
   "cell_type": "code",
   "execution_count": 27,
   "id": "a26f6be3",
   "metadata": {},
   "outputs": [],
   "source": [
    "num_iter = 5000"
   ]
  },
  {
   "cell_type": "code",
   "execution_count": 43,
   "id": "fd2be94d",
   "metadata": {},
   "outputs": [],
   "source": [
    "for v in range(num_iter):\n",
    "    episode = sample_episode(Q)\n",
    "    \n",
    "    state_action = [(s,a) for (s,a,_)  in episode]\n",
    "    rewards = [r for (_,_,r ) in episode ]\n",
    "    \n",
    "    \n",
    "    for x,(state,action,reward) in enumerate(episode):\n",
    "        \n",
    "        if not (state,action) in state_action[0:x]:\n",
    "            total = sum(rewards[x:])\n",
    "            total_return[(state,action)] += total\n",
    "            N[(state,action)] += 1\n",
    "            \n",
    "            \n",
    "            Q[(state,action)] = total_return[(state,action)] / N[(state,action)]"
   ]
  },
  {
   "cell_type": "code",
   "execution_count": 47,
   "id": "c1cc63fa",
   "metadata": {},
   "outputs": [],
   "source": [
    "df = pd.DataFrame(Q.items(),columns=['state_action','value'])"
   ]
  },
  {
   "cell_type": "code",
   "execution_count": 48,
   "id": "6f7a293b",
   "metadata": {},
   "outputs": [
    {
     "data": {
      "text/html": [
       "<div>\n",
       "<style scoped>\n",
       "    .dataframe tbody tr th:only-of-type {\n",
       "        vertical-align: middle;\n",
       "    }\n",
       "\n",
       "    .dataframe tbody tr th {\n",
       "        vertical-align: top;\n",
       "    }\n",
       "\n",
       "    .dataframe thead th {\n",
       "        text-align: right;\n",
       "    }\n",
       "</style>\n",
       "<table border=\"1\" class=\"dataframe\">\n",
       "  <thead>\n",
       "    <tr style=\"text-align: right;\">\n",
       "      <th></th>\n",
       "      <th>state_action</th>\n",
       "      <th>value</th>\n",
       "    </tr>\n",
       "  </thead>\n",
       "  <tbody>\n",
       "    <tr>\n",
       "      <th>0</th>\n",
       "      <td>((16, 4, True), 0)</td>\n",
       "      <td>-1.000000</td>\n",
       "    </tr>\n",
       "    <tr>\n",
       "      <th>1</th>\n",
       "      <td>((16, 4, True), 1)</td>\n",
       "      <td>-0.125000</td>\n",
       "    </tr>\n",
       "    <tr>\n",
       "      <th>2</th>\n",
       "      <td>((19, 9, False), 0)</td>\n",
       "      <td>0.450000</td>\n",
       "    </tr>\n",
       "    <tr>\n",
       "      <th>3</th>\n",
       "      <td>((19, 9, False), 1)</td>\n",
       "      <td>-0.777778</td>\n",
       "    </tr>\n",
       "    <tr>\n",
       "      <th>4</th>\n",
       "      <td>((16, 5, True), 0)</td>\n",
       "      <td>0.000000</td>\n",
       "    </tr>\n",
       "  </tbody>\n",
       "</table>\n",
       "</div>"
      ],
      "text/plain": [
       "          state_action     value\n",
       "0   ((16, 4, True), 0) -1.000000\n",
       "1   ((16, 4, True), 1) -0.125000\n",
       "2  ((19, 9, False), 0)  0.450000\n",
       "3  ((19, 9, False), 1) -0.777778\n",
       "4   ((16, 5, True), 0)  0.000000"
      ]
     },
     "execution_count": 48,
     "metadata": {},
     "output_type": "execute_result"
    }
   ],
   "source": [
    "df.head()"
   ]
  },
  {
   "cell_type": "code",
   "execution_count": null,
   "id": "cc22a830",
   "metadata": {},
   "outputs": [],
   "source": []
  }
 ],
 "metadata": {
  "kernelspec": {
   "display_name": "Python 3 (ipykernel)",
   "language": "python",
   "name": "python3"
  },
  "language_info": {
   "codemirror_mode": {
    "name": "ipython",
    "version": 3
   },
   "file_extension": ".py",
   "mimetype": "text/x-python",
   "name": "python",
   "nbconvert_exporter": "python",
   "pygments_lexer": "ipython3",
   "version": "3.7.8"
  }
 },
 "nbformat": 4,
 "nbformat_minor": 5
}
