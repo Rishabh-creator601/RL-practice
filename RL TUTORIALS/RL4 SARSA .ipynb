{
 "cells": [
  {
   "cell_type": "code",
   "execution_count": 1,
   "id": "9fcd442a",
   "metadata": {},
   "outputs": [],
   "source": [
    "import gym \n",
    "import numpy as np\n",
    "import random"
   ]
  },
  {
   "cell_type": "code",
   "execution_count": 3,
   "id": "c005efeb",
   "metadata": {},
   "outputs": [],
   "source": [
    "env =gym.make('FrozenLake-v1')"
   ]
  },
  {
   "cell_type": "code",
   "execution_count": 7,
   "id": "ca9af1e6",
   "metadata": {},
   "outputs": [],
   "source": [
    "Q = {}\n",
    "\n",
    "for s in range(env.observation_space.n):\n",
    "    for a in range(env.action_space.n):\n",
    "        Q[(s,a)] = 0.0"
   ]
  },
  {
   "cell_type": "code",
   "execution_count": 12,
   "id": "1362c3b2",
   "metadata": {},
   "outputs": [],
   "source": [
    "def greedy_policy(state,epsilon=0.5):\n",
    "    \n",
    "    if random.uniform(0,1) < epsilon:\n",
    "        return env.action_space.sample()\n",
    "    else:\n",
    "        return max(list(range(env.action_space.n)), key = lambda x: Q[(state,x)])\n",
    "\n",
    "    "
   ]
  },
  {
   "cell_type": "code",
   "execution_count": 10,
   "id": "fb6927ad",
   "metadata": {},
   "outputs": [],
   "source": [
    "alpha = 0.8\n",
    "gamma = 1.0\n",
    "epsilon = 0.8"
   ]
  },
  {
   "cell_type": "code",
   "execution_count": 16,
   "id": "28a3c799",
   "metadata": {},
   "outputs": [],
   "source": [
    "num_episodes = 5000\n",
    "num_steps= 100"
   ]
  },
  {
   "cell_type": "markdown",
   "id": "c94fac32",
   "metadata": {},
   "source": [
    "## Q(s,a) += alpha * (reward * gamma + Q(s',a') - Q(s,a))\n"
   ]
  },
  {
   "cell_type": "code",
   "execution_count": 17,
   "id": "cb82c7cd",
   "metadata": {},
   "outputs": [],
   "source": [
    "for i in range(num_episodes):\n",
    "    state = env.reset()\n",
    "    action = greedy_policy(state,epsilon)\n",
    "    \n",
    "    for v in range(num_steps):\n",
    "        \n",
    "        next_state, reward , done , _ = env.step(action)\n",
    "        \n",
    "        action_ = np.argmax([Q[(next_state,action)] for a in range(env.action_space.n)])\n",
    "        \n",
    "        Q[(state,action)] += alpha  * (reward + gamma * Q[(next_state,action_)] -Q[(state,action)])\n",
    "        \n",
    "        state = next_state \n",
    "        action = action_\n",
    "        \n",
    "        \n",
    "        if done:\n",
    "            break "
   ]
  },
  {
   "cell_type": "code",
   "execution_count": 18,
   "id": "3a241b9e",
   "metadata": {},
   "outputs": [
    {
     "data": {
      "text/plain": [
       "{(0, 0): 0.0,\n",
       " (0, 1): 0.0,\n",
       " (0, 2): 0.0,\n",
       " (0, 3): 0.0,\n",
       " (1, 0): 0.0,\n",
       " (1, 1): 1.446887305757081e-05,\n",
       " (1, 2): 7.431348433203856e-05,\n",
       " (1, 3): 0.0006473657553792442,\n",
       " (2, 0): 0.000894219512681821,\n",
       " (2, 1): 0.0027928675675102117,\n",
       " (2, 2): 0.0028227261093127826,\n",
       " (2, 3): 0.0014929092143687143,\n",
       " (3, 0): 0.00017829607777431475,\n",
       " (3, 1): 0.0019544220863629506,\n",
       " (3, 2): 1.2708880632994452e-05,\n",
       " (3, 3): 0.009220737906513591,\n",
       " (4, 0): 0.0,\n",
       " (4, 1): 0.03234643598184518,\n",
       " (4, 2): 0.003982372954381195,\n",
       " (4, 3): 0.0008591163143122442,\n",
       " (5, 0): 0.0,\n",
       " (5, 1): 0.0,\n",
       " (5, 2): 0.0,\n",
       " (5, 3): 0.0,\n",
       " (6, 0): 0.0073283070818541025,\n",
       " (6, 1): 2.9656772464199826e-09,\n",
       " (6, 2): 0.0006917987060509772,\n",
       " (6, 3): 0.0005539906635625137,\n",
       " (7, 0): 0.0,\n",
       " (7, 1): 0.0,\n",
       " (7, 2): 0.0,\n",
       " (7, 3): 0.0,\n",
       " (8, 0): 0.0,\n",
       " (8, 1): 0.19347516127079575,\n",
       " (8, 2): 0.0008384860049885793,\n",
       " (8, 3): 0.026078967215704213,\n",
       " (9, 0): 0.012546329916932955,\n",
       " (9, 1): 0.004703068918428749,\n",
       " (9, 2): 0.019364615667688503,\n",
       " (9, 3): 0.0014416795476527129,\n",
       " (10, 0): 0.117625898290785,\n",
       " (10, 1): 0.05065483613477333,\n",
       " (10, 2): 0.2078615353587466,\n",
       " (10, 3): 0.002274929080908615,\n",
       " (11, 0): 0.0,\n",
       " (11, 1): 0.0,\n",
       " (11, 2): 0.0,\n",
       " (11, 3): 0.0,\n",
       " (12, 0): 0.0,\n",
       " (12, 1): 0.0,\n",
       " (12, 2): 0.0,\n",
       " (12, 3): 0.0,\n",
       " (13, 0): 0.11062764846956785,\n",
       " (13, 1): 0.007681202326884537,\n",
       " (13, 2): 0.795377458082713,\n",
       " (13, 3): 0.9113049132228529,\n",
       " (14, 0): 0.06766228171028729,\n",
       " (14, 1): 0.7408923811621368,\n",
       " (14, 2): 0.665821337181289,\n",
       " (14, 3): 0.2010876355429958,\n",
       " (15, 0): 0.0,\n",
       " (15, 1): 0.0,\n",
       " (15, 2): 0.0,\n",
       " (15, 3): 0.0}"
      ]
     },
     "execution_count": 18,
     "metadata": {},
     "output_type": "execute_result"
    }
   ],
   "source": [
    "Q"
   ]
  },
  {
   "cell_type": "code",
   "execution_count": null,
   "id": "7685de53",
   "metadata": {},
   "outputs": [],
   "source": []
  }
 ],
 "metadata": {
  "kernelspec": {
   "display_name": "Python 3 (ipykernel)",
   "language": "python",
   "name": "python3"
  },
  "language_info": {
   "codemirror_mode": {
    "name": "ipython",
    "version": 3
   },
   "file_extension": ".py",
   "mimetype": "text/x-python",
   "name": "python",
   "nbconvert_exporter": "python",
   "pygments_lexer": "ipython3",
   "version": "3.7.8"
  }
 },
 "nbformat": 4,
 "nbformat_minor": 5
}
