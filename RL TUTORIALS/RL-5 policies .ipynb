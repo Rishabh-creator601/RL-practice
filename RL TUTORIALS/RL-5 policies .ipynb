{
 "cells": [
  {
   "cell_type": "code",
   "execution_count": 4,
   "id": "4d29e3e1",
   "metadata": {},
   "outputs": [],
   "source": [
    "import gym \n",
    "import gym_bandits \n",
    "import random \n",
    "import numpy as np"
   ]
  },
  {
   "cell_type": "code",
   "execution_count": 5,
   "id": "15aa74f0",
   "metadata": {},
   "outputs": [],
   "source": [
    "env = gym.make('BanditTwoArmedHighLowFixed-v0')"
   ]
  },
  {
   "cell_type": "code",
   "execution_count": 6,
   "id": "f0d51682",
   "metadata": {},
   "outputs": [
    {
     "data": {
      "text/plain": [
       "[0.8, 0.2]"
      ]
     },
     "execution_count": 6,
     "metadata": {},
     "output_type": "execute_result"
    }
   ],
   "source": [
    "env.p_dist"
   ]
  },
  {
   "cell_type": "code",
   "execution_count": 7,
   "id": "d7f797e1",
   "metadata": {},
   "outputs": [],
   "source": [
    "count = np.zeros(2)\n",
    "sum_rewards = np.zeros(2)\n",
    "Q = np.zeros(2)"
   ]
  },
  {
   "cell_type": "code",
   "execution_count": 12,
   "id": "6a7b8072",
   "metadata": {},
   "outputs": [],
   "source": [
    "alpha = np.ones(2)\n",
    "beta = np.ones(2)"
   ]
  },
  {
   "cell_type": "code",
   "execution_count": 9,
   "id": "5f5d705e",
   "metadata": {},
   "outputs": [],
   "source": [
    "def greedy_policy(epsilon=0.8):\n",
    "    if np.random.uniform(0,1) < epsilon:\n",
    "        return env.action_space.sample()\n",
    "    else:\n",
    "        return np.argmax(Q)\n"
   ]
  },
  {
   "cell_type": "code",
   "execution_count": 27,
   "id": "1d5fedc8",
   "metadata": {},
   "outputs": [],
   "source": [
    "def softmax_policy(T):\n",
    "    #BASED ON SOFTAMX EXPLORATION FUNCTION \n",
    "    denom = sum([np.exp(i/T) for i in Q])\n",
    "    probs = [np.exp(i/T)/denom for i in Q]\n",
    "    arm = np.random.choice(env.action_space.n,p=probs)\n",
    "    return arm"
   ]
  },
  {
   "cell_type": "code",
   "execution_count": null,
   "id": "ab2c5361",
   "metadata": {},
   "outputs": [],
   "source": [
    "def UCB(i):\n",
    "    \n",
    "    \n",
    "    ucb = np.zeros(2)\n",
    "    \n",
    "    if i < 2:\n",
    "        return i\n",
    "    \n",
    "    else:\n",
    "        \n",
    "        for arm in range(2):\n",
    "            ucb[arm]  = Q[arm] + np.sqrt()"
   ]
  },
  {
   "cell_type": "code",
   "execution_count": 1,
   "id": "ced3c5d8",
   "metadata": {},
   "outputs": [],
   "source": [
    "def thomsan_policy(alpha,beta):\n",
    "    samples = [np.random.beta(alpha[i]+1 , beta[i]+1) for i in range(2)]\n",
    "    return np.argmax(samples)"
   ]
  },
  {
   "cell_type": "code",
   "execution_count": null,
   "id": "15ffc2a5",
   "metadata": {},
   "outputs": [],
   "source": []
  },
  {
   "cell_type": "code",
   "execution_count": 10,
   "id": "7da5048d",
   "metadata": {},
   "outputs": [],
   "source": [
    "T = 50 \n",
    "num_rounds = 100"
   ]
  },
  {
   "cell_type": "code",
   "execution_count": 16,
   "id": "61b6a373",
   "metadata": {},
   "outputs": [],
   "source": [
    "for i in range(num_rounds):\n",
    "    \n",
    "    #arm = greedy_policy(0.9)\n",
    "    #arm = softmax_policy(T)\n",
    "    #arm = UCB(i)\n",
    "    arm = thomsan_policy(alpha,beta)\n",
    "    \n",
    "    next_step,reward,done,info= env.step(arm)\n",
    "    \n",
    "    count[arm] += 1 # Upadte Count \n",
    "    sum_rewards[arm] += reward #Update Reward \n",
    "    Q[arm] += sum_rewards[arm] / count[arm] \n",
    "    \n",
    "    if reward == 1:\n",
    "        alpha[arm] += 1\n",
    "    else:\n",
    "        beta[arm] += 1"
   ]
  },
  {
   "cell_type": "code",
   "execution_count": 17,
   "id": "45bed399",
   "metadata": {},
   "outputs": [
    {
     "data": {
      "text/plain": [
       "array([122.16861485,   7.33189317])"
      ]
     },
     "execution_count": 17,
     "metadata": {},
     "output_type": "execute_result"
    }
   ],
   "source": [
    "Q"
   ]
  },
  {
   "cell_type": "code",
   "execution_count": 18,
   "id": "1d7bfbd0",
   "metadata": {},
   "outputs": [
    {
     "name": "stdout",
     "output_type": "stream",
     "text": [
      "Optimal ARM : 1\n"
     ]
    }
   ],
   "source": [
    "print('Optimal ARM :', np.argmax(Q) + 1)"
   ]
  },
  {
   "cell_type": "code",
   "execution_count": null,
   "id": "1bdafa39",
   "metadata": {},
   "outputs": [],
   "source": []
  }
 ],
 "metadata": {
  "kernelspec": {
   "display_name": "Python 3 (ipykernel)",
   "language": "python",
   "name": "python3"
  },
  "language_info": {
   "codemirror_mode": {
    "name": "ipython",
    "version": 3
   },
   "file_extension": ".py",
   "mimetype": "text/x-python",
   "name": "python",
   "nbconvert_exporter": "python",
   "pygments_lexer": "ipython3",
   "version": "3.7.8"
  }
 },
 "nbformat": 4,
 "nbformat_minor": 5
}
