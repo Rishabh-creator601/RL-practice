{
 "cells": [
  {
   "cell_type": "code",
   "execution_count": 1,
   "id": "2715d4bb",
   "metadata": {},
   "outputs": [],
   "source": [
    "import gym \n",
    "import numpy as np"
   ]
  },
  {
   "cell_type": "code",
   "execution_count": 3,
   "id": "d4defca8",
   "metadata": {},
   "outputs": [],
   "source": [
    "env = gym.make('FrozenLake-v1')"
   ]
  },
  {
   "cell_type": "code",
   "execution_count": 4,
   "id": "7d97467e",
   "metadata": {},
   "outputs": [
    {
     "name": "stdout",
     "output_type": "stream",
     "text": [
      "\n",
      "\u001b[41mS\u001b[0mFFF\n",
      "FHFH\n",
      "FFFH\n",
      "HFFG\n"
     ]
    }
   ],
   "source": [
    "env.render()"
   ]
  },
  {
   "cell_type": "code",
   "execution_count": 18,
   "id": "ee9e1a6b",
   "metadata": {},
   "outputs": [],
   "source": [
    "def value_iteration(env):\n",
    "    num_iterations =1000\n",
    "    \n",
    "    threshold = 1e-2 \n",
    "    gamma = 1.0\n",
    "    \n",
    "    value_table = np.zeros((env.observation_space.n))\n",
    "    \n",
    "    for i in range(num_iterations):\n",
    "        \n",
    "        updated_value_table = np.copy(value_table)\n",
    "        \n",
    "        for s in range(env.observation_space.n):\n",
    "            \n",
    "            Q_table = [sum( [prob *(r+gamma * updated_value_table[s_])\n",
    "                            for prob , s_, r , _ in env.P[s][a]])\n",
    "                      for a in range(env.action_space.n)]\n",
    "            \n",
    "            value_table[s] = max(Q_table)\n",
    "        \n",
    "        \n",
    "        if (np.sum(np.fabs(updated_value_table - value_table )) <= threshold):\n",
    "            break \n",
    "    \n",
    "    \n",
    "    return value_table\n",
    "            \n",
    "\n",
    "        \n",
    "                    \n",
    "            \n",
    "            \n"
   ]
  },
  {
   "cell_type": "code",
   "execution_count": 12,
   "id": "fbb535c1",
   "metadata": {},
   "outputs": [],
   "source": [
    "def policy_iter(value_table):\n",
    "    \n",
    "    gamma = 1.0\n",
    "    \n",
    "    policy = np.zeros(env.observation_space.n)\n",
    "    \n",
    "    for s in range(env.observation_space.n):\n",
    "        \n",
    "        Q_values = [sum([prob*(r + gamma * value_table[s_])\n",
    "                             for prob, s_, r, _ in env.P[s][a]]) \n",
    "                                   for a in range(env.action_space.n)] \n",
    "        policy[s] = np.argmax(Q_values)\n",
    "    \n",
    "    \n",
    "    return policy"
   ]
  },
  {
   "cell_type": "code",
   "execution_count": 21,
   "id": "890b1a45",
   "metadata": {},
   "outputs": [],
   "source": [
    "optimal_value_function = value_iteration(env)"
   ]
  },
  {
   "cell_type": "code",
   "execution_count": 26,
   "id": "a355d938",
   "metadata": {},
   "outputs": [
    {
     "data": {
      "text/plain": [
       "array([0.78269257, 0.76903016, 0.7593322 , 0.75430111, 0.78566665,\n",
       "       0.        , 0.50023373, 0.        , 0.79139792, 0.79946853,\n",
       "       0.74349026, 0.        , 0.        , 0.86526845, 0.93231167,\n",
       "       0.        ])"
      ]
     },
     "execution_count": 26,
     "metadata": {},
     "output_type": "execute_result"
    }
   ],
   "source": [
    "optimal_value_function"
   ]
  },
  {
   "cell_type": "code",
   "execution_count": 22,
   "id": "da7f3ace",
   "metadata": {},
   "outputs": [],
   "source": [
    "optimal_policy = policy_iter(optimal_value_function)"
   ]
  },
  {
   "cell_type": "code",
   "execution_count": 23,
   "id": "166571ea",
   "metadata": {},
   "outputs": [
    {
     "data": {
      "text/plain": [
       "array([0., 3., 3., 3., 0., 0., 0., 0., 3., 1., 0., 0., 0., 2., 1., 0.])"
      ]
     },
     "execution_count": 23,
     "metadata": {},
     "output_type": "execute_result"
    }
   ],
   "source": [
    "optimal_policy"
   ]
  },
  {
   "cell_type": "code",
   "execution_count": 28,
   "id": "4eb86a30",
   "metadata": {},
   "outputs": [
    {
     "data": {
      "text/plain": [
       "0"
      ]
     },
     "execution_count": 28,
     "metadata": {},
     "output_type": "execute_result"
    }
   ],
   "source": [
    "env.reset()"
   ]
  },
  {
   "cell_type": "code",
   "execution_count": 29,
   "id": "da649359",
   "metadata": {},
   "outputs": [
    {
     "name": "stdout",
     "output_type": "stream",
     "text": [
      "\n",
      "\u001b[41mS\u001b[0mFFF\n",
      "FHFH\n",
      "FFFH\n",
      "HFFG\n"
     ]
    }
   ],
   "source": [
    "env.render()"
   ]
  },
  {
   "cell_type": "code",
   "execution_count": null,
   "id": "b9dc7cbb",
   "metadata": {},
   "outputs": [],
   "source": []
  }
 ],
 "metadata": {
  "kernelspec": {
   "display_name": "Python 3 (ipykernel)",
   "language": "python",
   "name": "python3"
  },
  "language_info": {
   "codemirror_mode": {
    "name": "ipython",
    "version": 3
   },
   "file_extension": ".py",
   "mimetype": "text/x-python",
   "name": "python",
   "nbconvert_exporter": "python",
   "pygments_lexer": "ipython3",
   "version": "3.7.8"
  }
 },
 "nbformat": 4,
 "nbformat_minor": 5
}
