{
 "cells": [
  {
   "cell_type": "code",
   "execution_count": 3,
   "id": "5e571627",
   "metadata": {},
   "outputs": [],
   "source": [
    "import pandas as pd\n",
    "import numpy as np\n",
    "import gym\n",
    "from collections import defaultdict"
   ]
  },
  {
   "cell_type": "code",
   "execution_count": 4,
   "id": "8af38f22",
   "metadata": {},
   "outputs": [],
   "source": [
    "env = gym.make('Blackjack-v0')"
   ]
  },
  {
   "cell_type": "code",
   "execution_count": 6,
   "id": "2c72d14c",
   "metadata": {},
   "outputs": [],
   "source": [
    "def policy(state):\n",
    "    return 0 if state[0] > 19 else 1"
   ]
  },
  {
   "cell_type": "code",
   "execution_count": 14,
   "id": "1c7c48b3",
   "metadata": {},
   "outputs": [
    {
     "data": {
      "text/plain": [
       "(21, 1, True)"
      ]
     },
     "execution_count": 14,
     "metadata": {},
     "output_type": "execute_result"
    }
   ],
   "source": [
    "state = env.reset()\n",
    "state"
   ]
  },
  {
   "cell_type": "code",
   "execution_count": 15,
   "id": "3333950c",
   "metadata": {},
   "outputs": [
    {
     "data": {
      "text/plain": [
       "0"
      ]
     },
     "execution_count": 15,
     "metadata": {},
     "output_type": "execute_result"
    }
   ],
   "source": [
    "policy(state)"
   ]
  },
  {
   "cell_type": "code",
   "execution_count": 18,
   "id": "247c78dd",
   "metadata": {},
   "outputs": [],
   "source": [
    "def sample_episode(policy,num_steps=100):\n",
    "    \n",
    "    episodes =[]\n",
    "    \n",
    "    state = env.reset()\n",
    "    \n",
    "    for i in range(num_steps):\n",
    "        action = policy(state)\n",
    "        \n",
    "        next_state , reward , done , _ = env.step(action)\n",
    "        \n",
    "        episodes.append((state,action,reward))\n",
    "        \n",
    "        if done:\n",
    "            break \n",
    "        \n",
    "        state = next_state \n",
    "    return episodes"
   ]
  },
  {
   "cell_type": "code",
   "execution_count": 21,
   "id": "71fa360c",
   "metadata": {},
   "outputs": [
    {
     "data": {
      "text/plain": [
       "[((19, 9, False), 1, -1.0)]"
      ]
     },
     "execution_count": 21,
     "metadata": {},
     "output_type": "execute_result"
    }
   ],
   "source": [
    "sample_episode(policy)"
   ]
  },
  {
   "cell_type": "code",
   "execution_count": 22,
   "id": "de404cf3",
   "metadata": {},
   "outputs": [],
   "source": [
    "total_return = defaultdict(float)\n",
    "N = defaultdict(int)"
   ]
  },
  {
   "cell_type": "code",
   "execution_count": 23,
   "id": "82601ba6",
   "metadata": {},
   "outputs": [],
   "source": [
    "num =50000"
   ]
  },
  {
   "cell_type": "code",
   "execution_count": 25,
   "id": "44a57df1",
   "metadata": {},
   "outputs": [],
   "source": [
    "for i in range(num):\n",
    "    episode = sample_episode(policy)\n",
    "    \n",
    "    states, actions , rewards = zip(*episode)\n",
    "    \n",
    "    for i , state in enumerate(states):\n",
    "        total = (sum(rewards[i:]))\n",
    "        total_return[state] += total\n",
    "        N[state] += 1\n",
    "        "
   ]
  },
  {
   "cell_type": "code",
   "execution_count": 26,
   "id": "b80438c5",
   "metadata": {},
   "outputs": [],
   "source": [
    "total_return = pd.DataFrame(total_return.items(),columns=['state','total_return'])"
   ]
  },
  {
   "cell_type": "code",
   "execution_count": 27,
   "id": "42e4021c",
   "metadata": {},
   "outputs": [
    {
     "data": {
      "text/html": [
       "<div>\n",
       "<style scoped>\n",
       "    .dataframe tbody tr th:only-of-type {\n",
       "        vertical-align: middle;\n",
       "    }\n",
       "\n",
       "    .dataframe tbody tr th {\n",
       "        vertical-align: top;\n",
       "    }\n",
       "\n",
       "    .dataframe thead th {\n",
       "        text-align: right;\n",
       "    }\n",
       "</style>\n",
       "<table border=\"1\" class=\"dataframe\">\n",
       "  <thead>\n",
       "    <tr style=\"text-align: right;\">\n",
       "      <th></th>\n",
       "      <th>state</th>\n",
       "      <th>total_return</th>\n",
       "    </tr>\n",
       "  </thead>\n",
       "  <tbody>\n",
       "    <tr>\n",
       "      <th>0</th>\n",
       "      <td>21</td>\n",
       "      <td>-1.0</td>\n",
       "    </tr>\n",
       "    <tr>\n",
       "      <th>1</th>\n",
       "      <td>1</td>\n",
       "      <td>0.0</td>\n",
       "    </tr>\n",
       "    <tr>\n",
       "      <th>2</th>\n",
       "      <td>(13, 6, False)</td>\n",
       "      <td>-264.0</td>\n",
       "    </tr>\n",
       "    <tr>\n",
       "      <th>3</th>\n",
       "      <td>(18, 6, False)</td>\n",
       "      <td>-387.0</td>\n",
       "    </tr>\n",
       "    <tr>\n",
       "      <th>4</th>\n",
       "      <td>(16, 10, False)</td>\n",
       "      <td>-1345.0</td>\n",
       "    </tr>\n",
       "  </tbody>\n",
       "</table>\n",
       "</div>"
      ],
      "text/plain": [
       "             state  total_return\n",
       "0               21          -1.0\n",
       "1                1           0.0\n",
       "2   (13, 6, False)        -264.0\n",
       "3   (18, 6, False)        -387.0\n",
       "4  (16, 10, False)       -1345.0"
      ]
     },
     "execution_count": 27,
     "metadata": {},
     "output_type": "execute_result"
    }
   ],
   "source": [
    "total_return.head()"
   ]
  },
  {
   "cell_type": "code",
   "execution_count": null,
   "id": "e6ec31e9",
   "metadata": {},
   "outputs": [],
   "source": []
  }
 ],
 "metadata": {
  "kernelspec": {
   "display_name": "Python 3 (ipykernel)",
   "language": "python",
   "name": "python3"
  },
  "language_info": {
   "codemirror_mode": {
    "name": "ipython",
    "version": 3
   },
   "file_extension": ".py",
   "mimetype": "text/x-python",
   "name": "python",
   "nbconvert_exporter": "python",
   "pygments_lexer": "ipython3",
   "version": "3.7.8"
  }
 },
 "nbformat": 4,
 "nbformat_minor": 5
}
